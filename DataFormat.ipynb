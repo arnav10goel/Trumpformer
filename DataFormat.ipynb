{
 "cells": [
  {
   "cell_type": "code",
   "execution_count": 41,
   "metadata": {},
   "outputs": [],
   "source": [
    "import pandas as pd"
   ]
  },
  {
   "cell_type": "code",
   "execution_count": 42,
   "metadata": {},
   "outputs": [
    {
     "data": {
      "text/html": [
       "<div>\n",
       "<style scoped>\n",
       "    .dataframe tbody tr th:only-of-type {\n",
       "        vertical-align: middle;\n",
       "    }\n",
       "\n",
       "    .dataframe tbody tr th {\n",
       "        vertical-align: top;\n",
       "    }\n",
       "\n",
       "    .dataframe thead th {\n",
       "        text-align: right;\n",
       "    }\n",
       "</style>\n",
       "<table border=\"1\" class=\"dataframe\">\n",
       "  <thead>\n",
       "    <tr style=\"text-align: right;\">\n",
       "      <th></th>\n",
       "      <th>id</th>\n",
       "      <th>text</th>\n",
       "      <th>is_retweet</th>\n",
       "      <th>is_deleted</th>\n",
       "      <th>device</th>\n",
       "      <th>favorites</th>\n",
       "      <th>retweets</th>\n",
       "      <th>datetime</th>\n",
       "      <th>is_flagged</th>\n",
       "      <th>date</th>\n",
       "    </tr>\n",
       "  </thead>\n",
       "  <tbody>\n",
       "    <tr>\n",
       "      <th>0</th>\n",
       "      <td>9.845497e+16</td>\n",
       "      <td>Republicans and Democrats have both created ou...</td>\n",
       "      <td>False</td>\n",
       "      <td>False</td>\n",
       "      <td>TweetDeck</td>\n",
       "      <td>49</td>\n",
       "      <td>255</td>\n",
       "      <td>2011-08-02T18:07:48Z</td>\n",
       "      <td>False</td>\n",
       "      <td>2011-08-02</td>\n",
       "    </tr>\n",
       "    <tr>\n",
       "      <th>1</th>\n",
       "      <td>1.234653e+18</td>\n",
       "      <td>I was thrilled to be back in the Great city of...</td>\n",
       "      <td>False</td>\n",
       "      <td>False</td>\n",
       "      <td>Twitter for iPhone</td>\n",
       "      <td>73748</td>\n",
       "      <td>17404</td>\n",
       "      <td>2020-03-03T01:34:50Z</td>\n",
       "      <td>False</td>\n",
       "      <td>2020-03-03</td>\n",
       "    </tr>\n",
       "    <tr>\n",
       "      <th>2</th>\n",
       "      <td>1.218011e+18</td>\n",
       "      <td>RT @CBS_Herridge: READ: Letter to surveillance...</td>\n",
       "      <td>True</td>\n",
       "      <td>False</td>\n",
       "      <td>Twitter for iPhone</td>\n",
       "      <td>0</td>\n",
       "      <td>7396</td>\n",
       "      <td>2020-01-17T03:22:47Z</td>\n",
       "      <td>False</td>\n",
       "      <td>2020-01-17</td>\n",
       "    </tr>\n",
       "    <tr>\n",
       "      <th>3</th>\n",
       "      <td>1.304875e+18</td>\n",
       "      <td>The Unsolicited Mail In Ballot Scam is a major...</td>\n",
       "      <td>False</td>\n",
       "      <td>False</td>\n",
       "      <td>Twitter for iPhone</td>\n",
       "      <td>80527</td>\n",
       "      <td>23502</td>\n",
       "      <td>2020-09-12T20:10:58Z</td>\n",
       "      <td>False</td>\n",
       "      <td>2020-09-12</td>\n",
       "    </tr>\n",
       "    <tr>\n",
       "      <th>4</th>\n",
       "      <td>1.218160e+18</td>\n",
       "      <td>RT @MZHemingway: Very friendly telling of even...</td>\n",
       "      <td>True</td>\n",
       "      <td>False</td>\n",
       "      <td>Twitter for iPhone</td>\n",
       "      <td>0</td>\n",
       "      <td>9081</td>\n",
       "      <td>2020-01-17T13:13:59Z</td>\n",
       "      <td>False</td>\n",
       "      <td>2020-01-17</td>\n",
       "    </tr>\n",
       "  </tbody>\n",
       "</table>\n",
       "</div>"
      ],
      "text/plain": [
       "             id                                               text  \\\n",
       "0  9.845497e+16  Republicans and Democrats have both created ou...   \n",
       "1  1.234653e+18  I was thrilled to be back in the Great city of...   \n",
       "2  1.218011e+18  RT @CBS_Herridge: READ: Letter to surveillance...   \n",
       "3  1.304875e+18  The Unsolicited Mail In Ballot Scam is a major...   \n",
       "4  1.218160e+18  RT @MZHemingway: Very friendly telling of even...   \n",
       "\n",
       "   is_retweet  is_deleted              device  favorites  retweets  \\\n",
       "0       False       False           TweetDeck         49       255   \n",
       "1       False       False  Twitter for iPhone      73748     17404   \n",
       "2        True       False  Twitter for iPhone          0      7396   \n",
       "3       False       False  Twitter for iPhone      80527     23502   \n",
       "4        True       False  Twitter for iPhone          0      9081   \n",
       "\n",
       "               datetime  is_flagged        date  \n",
       "0  2011-08-02T18:07:48Z       False  2011-08-02  \n",
       "1  2020-03-03T01:34:50Z       False  2020-03-03  \n",
       "2  2020-01-17T03:22:47Z       False  2020-01-17  \n",
       "3  2020-09-12T20:10:58Z       False  2020-09-12  \n",
       "4  2020-01-17T13:13:59Z       False  2020-01-17  "
      ]
     },
     "execution_count": 42,
     "metadata": {},
     "output_type": "execute_result"
    }
   ],
   "source": [
    "# open the csv file\n",
    "df = pd.read_csv('/Users/arnav/Desktop/MachineLearning/Trumpformer/trump_tweets.csv')\n",
    "df.head()"
   ]
  },
  {
   "cell_type": "code",
   "execution_count": 43,
   "metadata": {},
   "outputs": [],
   "source": [
    "# Remove rows with missing values in the 'text' column\n",
    "df = df.dropna(subset=['text'])"
   ]
  },
  {
   "cell_type": "code",
   "execution_count": 44,
   "metadata": {},
   "outputs": [
    {
     "name": "stdout",
     "output_type": "stream",
     "text": [
      "56571\n"
     ]
    }
   ],
   "source": [
    "# Store the text column in a list\n",
    "text = df['text'].tolist()\n",
    "\n",
    "print(len(text))"
   ]
  },
  {
   "cell_type": "code",
   "execution_count": 45,
   "metadata": {},
   "outputs": [
    {
     "name": "stdout",
     "output_type": "stream",
     "text": [
      "15470\n"
     ]
    }
   ],
   "source": [
    "# Clean the data\n",
    "# Remove all items starting with RT\n",
    "text = [x for x in text if not x.startswith('RT')]\n",
    "\n",
    "# Remove all items starting with @\n",
    "text = [x for x in text if not x.startswith('@')]\n",
    "\n",
    "# Remove all items if https is present\n",
    "text = [x for x in text if 'https' not in x]\n",
    "\n",
    "# Remove all items if http is present\n",
    "text = [x for x in text if 'http' not in x]\n",
    "\n",
    "# Remove all items if www is present\n",
    "text = [x for x in text if 'www' not in x]\n",
    "\n",
    "# Remove all items if .com is present\n",
    "text = [x for x in text if '.com' not in x]\n",
    "\n",
    "# Remove all items if .co is present\n",
    "text = [x for x in text if '.co' not in x]\n",
    "\n",
    "# Remove all items if .org is present\n",
    "text = [x for x in text if '.org' not in x]\n",
    "\n",
    "# Remove all items if .net is present\n",
    "text = [x for x in text if '.net' not in x]\n",
    "\n",
    "# Remove if starts with \"\"\"\"\n",
    "text = [x for x in text if not x.startswith('\"\"\"')]\n",
    "\n",
    "# Remove those with non english characters\n",
    "text = [x for x in text if x.isascii()]\n",
    "\n",
    "print(len(text))"
   ]
  },
  {
   "cell_type": "code",
   "execution_count": 46,
   "metadata": {},
   "outputs": [
    {
     "name": "stdout",
     "output_type": "stream",
     "text": [
      "Republicans and Democrats have both created our economic problems.\n"
     ]
    }
   ],
   "source": [
    "print(text[0])"
   ]
  },
  {
   "cell_type": "code",
   "execution_count": 47,
   "metadata": {},
   "outputs": [
    {
     "name": "stdout",
     "output_type": "stream",
     "text": [
      "The Unsolicited Mail In Ballot Scam is a major threat to our Democracy, & the Democrats know it. Almost all recent elections using this system, even though much smaller &  with far fewer Ballots to count, have ended up being a disaster. Large numbers of missing Ballots & Fraud!\n"
     ]
    }
   ],
   "source": [
    "print(text[1])"
   ]
  },
  {
   "cell_type": "code",
   "execution_count": 48,
   "metadata": {},
   "outputs": [
    {
     "name": "stdout",
     "output_type": "stream",
     "text": [
      "The threshold identification of Ballots is turning out to be even bigger than originally anticipated. A very large number of Ballots are impacted. Stay tuned!\n"
     ]
    }
   ],
   "source": [
    "print(text[2])"
   ]
  },
  {
   "cell_type": "code",
   "execution_count": 49,
   "metadata": {},
   "outputs": [],
   "source": [
    "# Write the list to a text file\n",
    "with open('/Users/arnav/Desktop/MachineLearning/Trumpformer/trump_tweets.txt', 'w') as f:\n",
    "    for item in text:\n",
    "        f.write(\"%s\\n\" % item)\n"
   ]
  }
 ],
 "metadata": {
  "kernelspec": {
   "display_name": "Python 3",
   "language": "python",
   "name": "python3"
  },
  "language_info": {
   "codemirror_mode": {
    "name": "ipython",
    "version": 3
   },
   "file_extension": ".py",
   "mimetype": "text/x-python",
   "name": "python",
   "nbconvert_exporter": "python",
   "pygments_lexer": "ipython3",
   "version": "3.10.0"
  },
  "orig_nbformat": 4
 },
 "nbformat": 4,
 "nbformat_minor": 2
}
