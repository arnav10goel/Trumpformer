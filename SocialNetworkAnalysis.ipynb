{
 "cells": [
  {
   "cell_type": "markdown",
   "metadata": {},
   "source": [
    "- Import Libraries"
   ]
  },
  {
   "cell_type": "code",
   "execution_count": 38,
   "metadata": {},
   "outputs": [],
   "source": [
    "import pandas as pd\n",
    "import networkx as nx\n",
    "import matplotlib.pyplot as plt\n",
    "from collections import defaultdict"
   ]
  },
  {
   "cell_type": "code",
   "execution_count": 39,
   "metadata": {},
   "outputs": [
    {
     "data": {
      "text/html": [
       "<div>\n",
       "<style scoped>\n",
       "    .dataframe tbody tr th:only-of-type {\n",
       "        vertical-align: middle;\n",
       "    }\n",
       "\n",
       "    .dataframe tbody tr th {\n",
       "        vertical-align: top;\n",
       "    }\n",
       "\n",
       "    .dataframe thead th {\n",
       "        text-align: right;\n",
       "    }\n",
       "</style>\n",
       "<table border=\"1\" class=\"dataframe\">\n",
       "  <thead>\n",
       "    <tr style=\"text-align: right;\">\n",
       "      <th></th>\n",
       "      <th>id</th>\n",
       "      <th>text</th>\n",
       "      <th>is_retweet</th>\n",
       "      <th>is_deleted</th>\n",
       "      <th>device</th>\n",
       "      <th>favorites</th>\n",
       "      <th>retweets</th>\n",
       "      <th>datetime</th>\n",
       "      <th>is_flagged</th>\n",
       "      <th>date</th>\n",
       "    </tr>\n",
       "  </thead>\n",
       "  <tbody>\n",
       "    <tr>\n",
       "      <th>0</th>\n",
       "      <td>9.845497e+16</td>\n",
       "      <td>Republicans and Democrats have both created ou...</td>\n",
       "      <td>False</td>\n",
       "      <td>False</td>\n",
       "      <td>TweetDeck</td>\n",
       "      <td>49</td>\n",
       "      <td>255</td>\n",
       "      <td>2011-08-02T18:07:48Z</td>\n",
       "      <td>False</td>\n",
       "      <td>2011-08-02</td>\n",
       "    </tr>\n",
       "    <tr>\n",
       "      <th>1</th>\n",
       "      <td>1.234653e+18</td>\n",
       "      <td>I was thrilled to be back in the Great city of...</td>\n",
       "      <td>False</td>\n",
       "      <td>False</td>\n",
       "      <td>Twitter for iPhone</td>\n",
       "      <td>73748</td>\n",
       "      <td>17404</td>\n",
       "      <td>2020-03-03T01:34:50Z</td>\n",
       "      <td>False</td>\n",
       "      <td>2020-03-03</td>\n",
       "    </tr>\n",
       "    <tr>\n",
       "      <th>2</th>\n",
       "      <td>1.218011e+18</td>\n",
       "      <td>RT @CBS_Herridge: READ: Letter to surveillance...</td>\n",
       "      <td>True</td>\n",
       "      <td>False</td>\n",
       "      <td>Twitter for iPhone</td>\n",
       "      <td>0</td>\n",
       "      <td>7396</td>\n",
       "      <td>2020-01-17T03:22:47Z</td>\n",
       "      <td>False</td>\n",
       "      <td>2020-01-17</td>\n",
       "    </tr>\n",
       "    <tr>\n",
       "      <th>3</th>\n",
       "      <td>1.304875e+18</td>\n",
       "      <td>The Unsolicited Mail In Ballot Scam is a major...</td>\n",
       "      <td>False</td>\n",
       "      <td>False</td>\n",
       "      <td>Twitter for iPhone</td>\n",
       "      <td>80527</td>\n",
       "      <td>23502</td>\n",
       "      <td>2020-09-12T20:10:58Z</td>\n",
       "      <td>False</td>\n",
       "      <td>2020-09-12</td>\n",
       "    </tr>\n",
       "    <tr>\n",
       "      <th>4</th>\n",
       "      <td>1.218160e+18</td>\n",
       "      <td>RT @MZHemingway: Very friendly telling of even...</td>\n",
       "      <td>True</td>\n",
       "      <td>False</td>\n",
       "      <td>Twitter for iPhone</td>\n",
       "      <td>0</td>\n",
       "      <td>9081</td>\n",
       "      <td>2020-01-17T13:13:59Z</td>\n",
       "      <td>False</td>\n",
       "      <td>2020-01-17</td>\n",
       "    </tr>\n",
       "  </tbody>\n",
       "</table>\n",
       "</div>"
      ],
      "text/plain": [
       "             id                                               text  \\\n",
       "0  9.845497e+16  Republicans and Democrats have both created ou...   \n",
       "1  1.234653e+18  I was thrilled to be back in the Great city of...   \n",
       "2  1.218011e+18  RT @CBS_Herridge: READ: Letter to surveillance...   \n",
       "3  1.304875e+18  The Unsolicited Mail In Ballot Scam is a major...   \n",
       "4  1.218160e+18  RT @MZHemingway: Very friendly telling of even...   \n",
       "\n",
       "   is_retweet  is_deleted              device  favorites  retweets  \\\n",
       "0       False       False           TweetDeck         49       255   \n",
       "1       False       False  Twitter for iPhone      73748     17404   \n",
       "2        True       False  Twitter for iPhone          0      7396   \n",
       "3       False       False  Twitter for iPhone      80527     23502   \n",
       "4        True       False  Twitter for iPhone          0      9081   \n",
       "\n",
       "               datetime  is_flagged        date  \n",
       "0  2011-08-02T18:07:48Z       False  2011-08-02  \n",
       "1  2020-03-03T01:34:50Z       False  2020-03-03  \n",
       "2  2020-01-17T03:22:47Z       False  2020-01-17  \n",
       "3  2020-09-12T20:10:58Z       False  2020-09-12  \n",
       "4  2020-01-17T13:13:59Z       False  2020-01-17  "
      ]
     },
     "execution_count": 39,
     "metadata": {},
     "output_type": "execute_result"
    }
   ],
   "source": [
    "# open the csv file\n",
    "df = pd.read_csv('/Users/arnav/Desktop/MachineLearning/Trumpformer/trump_tweets.csv')\n",
    "df.head()"
   ]
  },
  {
   "cell_type": "code",
   "execution_count": 40,
   "metadata": {},
   "outputs": [
    {
     "data": {
      "text/html": [
       "<div>\n",
       "<style scoped>\n",
       "    .dataframe tbody tr th:only-of-type {\n",
       "        vertical-align: middle;\n",
       "    }\n",
       "\n",
       "    .dataframe tbody tr th {\n",
       "        vertical-align: top;\n",
       "    }\n",
       "\n",
       "    .dataframe thead th {\n",
       "        text-align: right;\n",
       "    }\n",
       "</style>\n",
       "<table border=\"1\" class=\"dataframe\">\n",
       "  <thead>\n",
       "    <tr style=\"text-align: right;\">\n",
       "      <th></th>\n",
       "      <th>text</th>\n",
       "      <th>entities</th>\n",
       "    </tr>\n",
       "  </thead>\n",
       "  <tbody>\n",
       "    <tr>\n",
       "      <th>0</th>\n",
       "      <td>Republicans and Democrats have both created ou...</td>\n",
       "      <td>{}</td>\n",
       "    </tr>\n",
       "    <tr>\n",
       "      <th>1</th>\n",
       "      <td>I was thrilled to be back in the Great city of...</td>\n",
       "      <td>{'hashtags': ['#KAG2020']}</td>\n",
       "    </tr>\n",
       "    <tr>\n",
       "      <th>2</th>\n",
       "      <td>RT @CBS_Herridge: READ: Letter to surveillance...</td>\n",
       "      <td>{'mentions': ['@CBS_Herridge:']}</td>\n",
       "    </tr>\n",
       "    <tr>\n",
       "      <th>3</th>\n",
       "      <td>The Unsolicited Mail In Ballot Scam is a major...</td>\n",
       "      <td>{}</td>\n",
       "    </tr>\n",
       "    <tr>\n",
       "      <th>4</th>\n",
       "      <td>RT @MZHemingway: Very friendly telling of even...</td>\n",
       "      <td>{'mentions': ['@MZHemingway:']}</td>\n",
       "    </tr>\n",
       "  </tbody>\n",
       "</table>\n",
       "</div>"
      ],
      "text/plain": [
       "                                                text  \\\n",
       "0  Republicans and Democrats have both created ou...   \n",
       "1  I was thrilled to be back in the Great city of...   \n",
       "2  RT @CBS_Herridge: READ: Letter to surveillance...   \n",
       "3  The Unsolicited Mail In Ballot Scam is a major...   \n",
       "4  RT @MZHemingway: Very friendly telling of even...   \n",
       "\n",
       "                           entities  \n",
       "0                                {}  \n",
       "1        {'hashtags': ['#KAG2020']}  \n",
       "2  {'mentions': ['@CBS_Herridge:']}  \n",
       "3                                {}  \n",
       "4   {'mentions': ['@MZHemingway:']}  "
      ]
     },
     "execution_count": 40,
     "metadata": {},
     "output_type": "execute_result"
    }
   ],
   "source": [
    "def extract_entities_from_tweet(tweet):\n",
    "    entities = defaultdict(list)\n",
    "    words = tweet.split()\n",
    "    for word in words:\n",
    "        if word.startswith('@'):\n",
    "            entities['mentions'].append(word)\n",
    "        elif word.startswith('#'):\n",
    "            entities['hashtags'].append(word)\n",
    "    return entities\n",
    "\n",
    "\n",
    "df['entities'] = df['text'].apply(extract_entities_from_tweet)\n",
    "\n",
    "# Show the entities and the tweets\n",
    "df[['text', 'entities']].head()\n"
   ]
  },
  {
   "cell_type": "markdown",
   "metadata": {},
   "source": [
    "- We will analyse the top 10 mentions and hashtags done by the author:"
   ]
  },
  {
   "cell_type": "code",
   "execution_count": 41,
   "metadata": {},
   "outputs": [
    {
     "data": {
      "text/plain": [
       "@realDonaldTrump:    1137\n",
       "@WhiteHouse:          666\n",
       "@FoxNews              664\n",
       "@foxandfriends        554\n",
       "@BarackObama          482\n",
       "@ApprenticeNBC        300\n",
       "@TeamTrump:           300\n",
       "@CNN                  285\n",
       "@GOPChairwoman:       213\n",
       "@MittRomney           193\n",
       "dtype: int64"
      ]
     },
     "execution_count": 41,
     "metadata": {},
     "output_type": "execute_result"
    }
   ],
   "source": [
    "# The top 10 mentions not including @realDonaldTrump\n",
    "mentions = [item for sublist in df['entities'].apply(lambda x: x['mentions']).tolist() for item in sublist]\n",
    "mentions = [m for m in mentions if m != '@realDonaldTrump']\n",
    "pd.Series(mentions).value_counts().head(10)\n"
   ]
  },
  {
   "cell_type": "code",
   "execution_count": 42,
   "metadata": {},
   "outputs": [
    {
     "data": {
      "text/plain": [
       "#Trump2016                   434\n",
       "#MAGA                        417\n",
       "#MakeAmericaGreatAgain       281\n",
       "#CelebApprentice             220\n",
       "#Trump2016\"\"\"                170\n",
       "#1                           110\n",
       "#CelebrityApprentice          83\n",
       "#MakeAmericaGreatAgain\"\"\"     71\n",
       "#AmericaFirst                 65\n",
       "#KAG2020                      63\n",
       "dtype: int64"
      ]
     },
     "execution_count": 42,
     "metadata": {},
     "output_type": "execute_result"
    }
   ],
   "source": [
    "# The top 10 hashtags\n",
    "hashtags = [item for sublist in df['entities'].apply(lambda x: x['hashtags']).tolist() for item in sublist]\n",
    "pd.Series(hashtags).value_counts().head(10)"
   ]
  },
  {
   "cell_type": "code",
   "execution_count": 43,
   "metadata": {},
   "outputs": [
    {
     "name": "stdout",
     "output_type": "stream",
     "text": [
      "Warning: When  cdn_resources is 'local' jupyter notebook has issues displaying graphics on chrome/safari. Use cdn_resources='in_line' or cdn_resources='remote' if you have issues viewing graphics in a notebook.\n"
     ]
    }
   ],
   "source": [
    "from pyvis.network import Network\n",
    "\n",
    "# Create a PyVis network\n",
    "nt = Network(notebook=True, height=\"750px\", width=\"100%\", bgcolor=\"#222222\", font_color=\"white\")"
   ]
  },
  {
   "cell_type": "code",
   "execution_count": 44,
   "metadata": {},
   "outputs": [
    {
     "name": "stdout",
     "output_type": "stream",
     "text": [
      "trump_network.html\n"
     ]
    },
    {
     "data": {
      "text/html": [
       "\n",
       "        <iframe\n",
       "            width=\"100%\"\n",
       "            height=\"750px\"\n",
       "            src=\"trump_network.html\"\n",
       "            frameborder=\"0\"\n",
       "            allowfullscreen\n",
       "            \n",
       "        ></iframe>\n",
       "        "
      ],
      "text/plain": [
       "<IPython.lib.display.IFrame at 0x13b57ba60>"
      ]
     },
     "execution_count": 44,
     "metadata": {},
     "output_type": "execute_result"
    }
   ],
   "source": [
    "# Create a NetworkX graph\n",
    "\n",
    "G = nx.Graph()\n",
    "\n",
    "# Add the top 10 mentions as nodes\n",
    "top_10_mentions = [m[0] for m in pd.Series(mentions).value_counts().head(50).items()]\n",
    "for mention in top_10_mentions:\n",
    "    G.add_node(mention)\n",
    "\n",
    "# Add the top 10 hashtags as nodes\n",
    "top_10_hashtags = [h[0] for h in pd.Series(hashtags).value_counts().head(50).items()]\n",
    "\n",
    "for hashtag in top_10_hashtags:\n",
    "    G.add_node(hashtag)\n",
    "\n",
    "# Add edges between mentions and hashtags\n",
    "for index, row in df.iterrows():\n",
    "    tweet_author = \"DonaldTrump\"  # Assuming all tweets are by Donald Trump\n",
    "    for mention in row['entities']['mentions']:\n",
    "        if mention in top_10_mentions:\n",
    "            G.add_edge(tweet_author, mention)\n",
    "    for hashtag in row['entities']['hashtags']:\n",
    "        if hashtag in top_10_hashtags:\n",
    "            G.add_edge(tweet_author, hashtag)\n",
    "\n",
    "# Add the edges and nodes to the PyVis network\n",
    "for node in G.nodes:\n",
    "    nt.add_node(node)\n",
    "for edge in G.edges:\n",
    "    nt.add_edge(edge[0], edge[1])\n",
    "\n",
    "# Save the network to a HTML file\n",
    "nt.show_buttons(filter_=['physics'])\n",
    "nt.show('trump_network.html')"
   ]
  },
  {
   "cell_type": "code",
   "execution_count": 45,
   "metadata": {},
   "outputs": [],
   "source": [
    "# Take Random Sample of 1000 tweets\n",
    "df_sample = df.sample(1000)\n",
    "\n",
    "# Remove the mentions and hashtags from the tweets\n",
    "df_sample['text'] = df_sample['text'].str.replace('@\\S+', '')\n",
    "df_sample['text'] = df_sample['text'].str.replace('#\\S+', '')"
   ]
  },
  {
   "cell_type": "markdown",
   "metadata": {},
   "source": [
    "- Standard NLP Pre-processing"
   ]
  },
  {
   "cell_type": "code",
   "execution_count": 46,
   "metadata": {},
   "outputs": [],
   "source": [
    "# Remove the URLs from the tweets\n",
    "df_sample['text'] = df_sample['text'].str.replace('http\\S+', '')\n",
    "\n",
    "# Remove punctuation\n",
    "df_sample['text'] = df_sample['text'].str.replace('[^\\w\\s]', '')\n",
    "\n",
    "# Remove numbers\n",
    "df_sample['text'] = df_sample['text'].str.replace('\\d+', '')\n",
    "\n",
    "# Convert to lowercase\n",
    "df_sample['text'] = df_sample['text'].str.lower()\n",
    "\n",
    "# Remove extra whitespace\n",
    "df_sample['text'] = df_sample['text'].str.replace('\\s+', ' ')\n",
    "\n",
    "# Remove leading and trailing whitespace\n",
    "df_sample['text'] = df_sample['text'].str.replace('^\\s+|\\s+$', '')\n",
    "\n",
    "# Remove RT (retweet)\n",
    "df_sample['text'] = df_sample['text'].str.replace('rt', '')\n",
    "\n",
    "# Remove amp (html ampersand)\n",
    "df_sample['text'] = df_sample['text'].str.replace('amp', '')\n",
    "\n",
    "# Remove stop words\n",
    "from nltk.corpus import stopwords\n",
    "\n",
    "stop = stopwords.words('english')\n",
    "df_sample['text'] = df_sample['text'].apply(lambda x: ' '.join([word for word in x.split() if word not in (stop)]))\n",
    "\n",
    "# Lemmatize the tweets\n",
    "from nltk.stem import WordNetLemmatizer\n",
    "\n",
    "lemmatizer = WordNetLemmatizer()\n",
    "df_sample['text'] = df_sample['text'].apply(lambda x: ' '.join([lemmatizer.lemmatize(word) for word in x.split()]))\n"
   ]
  },
  {
   "cell_type": "code",
   "execution_count": 47,
   "metadata": {},
   "outputs": [
    {
     "data": {
      "image/png": "[encoded data removed]",
      "text/plain": [
       "<Figure size 720x576 with 1 Axes>"
      ]
     },
     "metadata": {
      "needs_background": "light"
     },
     "output_type": "display_data"
    }
   ],
   "source": [
    "# Create a list of all the words in the tweets\n",
    "words = [word for tweet in df_sample['text'] for word in tweet.split()]\n",
    "\n",
    "# Create a word frequency dictionary\n",
    "word_freq = defaultdict(int)\n",
    "\n",
    "for word in words:\n",
    "    word_freq[word] += 1\n",
    "\n",
    "# Create a Pandas dataframe from the word frequency dictionary\n",
    "df_freq = pd.DataFrame.from_dict(word_freq, orient='index', columns=['count'])\n",
    "\n",
    "# Sort the dataframe by word frequency\n",
    "df_freq.sort_values(by=['count'], ascending=False, inplace=True)\n",
    "\n",
    "# Plot the top 20 words\n",
    "df_freq.head(20).plot(kind='barh', figsize=(10, 8), color='#86bf91', zorder=2, width=0.85)\n",
    "\n",
    "# Set the title and axis labels\n",
    "plt.title(\"Top 20 Words in Donald Trump's Tweets\")\n",
    "plt.xlabel(\"Word Frequency\")\n",
    "plt.ylabel(\"Word\")\n",
    "\n",
    "# Show the plot\n",
    "plt.show()"
   ]
  },
  {
   "cell_type": "code",
   "execution_count": 48,
   "metadata": {},
   "outputs": [],
   "source": [
    "# Suppress warnings\n",
    "import warnings\n",
    "\n",
    "warnings.filterwarnings('ignore')\n",
    "\n",
    "# Take tweets flagged as False\n",
    "df_false = df[df['is_flagged'] == False]\n",
    "\n",
    "# Remove the mentions and hashtags from the tweets\n",
    "df_false['text'] = df_false['text'].str.replace('@\\S+', '')\n",
    "df_false['text'] = df_false['text'].str.replace('#\\S+', '')\n",
    "\n",
    "# Remove the URLs from the tweets\n",
    "df_false['text'] = df_false['text'].str.replace('http\\S+', '')\n",
    "\n",
    "# Remove punctuation\n",
    "df_false['text'] = df_false['text'].str.replace('[^\\w\\s]', '')\n",
    "\n",
    "# Remove numbers\n",
    "df_false['text'] = df_false['text'].str.replace('\\d+', '')\n",
    "\n",
    "# Convert to lowercase\n",
    "df_false['text'] = df_false['text'].str.lower()\n",
    "\n",
    "# Remove extra whitespace\n",
    "df_false['text'] = df_false['text'].str.replace('\\s+', ' ')\n",
    "\n",
    "# Remove leading and trailing whitespace\n",
    "df_false['text'] = df_false['text'].str.replace('^\\s+|\\s+$', '')\n",
    "\n",
    "# Remove RT (retweet)\n",
    "df_false['text'] = df_false['text'].str.replace('rt', '')\n",
    "\n",
    "# Remove amp (html ampersand)\n",
    "df_false['text'] = df_false['text'].str.replace('amp', '')\n",
    "\n",
    "# Remove stop words\n",
    "from nltk.corpus import stopwords\n",
    "\n",
    "stop = stopwords.words('english')\n",
    "\n",
    "df_false['text'] = df_false['text'].apply(lambda x: ' '.join([word for word in x.split() if word not in (stop)]))\n",
    "\n",
    "# Lemmatize the tweets\n",
    "from nltk.stem import WordNetLemmatizer\n",
    "\n",
    "lemmatizer = WordNetLemmatizer()\n",
    "df_false['text'] = df_false['text'].apply(lambda x: ' '.join([lemmatizer.lemmatize(word) for word in x.split()]))\n",
    "\n"
   ]
  },
  {
   "cell_type": "code",
   "execution_count": 49,
   "metadata": {},
   "outputs": [
    {
     "data": {
      "image/png": "[encoded data removed]",
      "text/plain": [
       "<Figure size 720x576 with 1 Axes>"
      ]
     },
     "metadata": {
      "needs_background": "light"
     },
     "output_type": "display_data"
    }
   ],
   "source": [
    "# Create a list of all the words in the tweets\n",
    "words = [word for tweet in df_false['text'] for word in tweet.split()]\n",
    "\n",
    "# Create a word frequency dictionary\n",
    "word_freq = defaultdict(int)\n",
    "\n",
    "for word in words:\n",
    "    word_freq[word] += 1\n",
    "\n",
    "# Create a Pandas dataframe from the word frequency dictionary\n",
    "df_freq = pd.DataFrame.from_dict(word_freq, orient='index', columns=['count'])\n",
    "\n",
    "# Sort the dataframe by word frequency\n",
    "df_freq.sort_values(by=['count'], ascending=False, inplace=True)\n",
    "\n",
    "# Plot the top 20 words\n",
    "df_freq.head(20).plot(kind='barh', figsize=(10, 8), color='#86bf91', zorder=2, width=0.85)\n",
    "\n",
    "# Set the title and axis labels\n",
    "plt.title(\"Top 20 Words in Donald Trump's Tweets flagged as False\")\n",
    "plt.xlabel(\"Word Frequency\")\n",
    "plt.ylabel(\"Word\")\n",
    "\n",
    "# Show the plot\n",
    "plt.show()"
   ]
  }
 ],
 "metadata": {
  "kernelspec": {
   "display_name": "Python 3",
   "language": "python",
   "name": "python3"
  },
  "language_info": {
   "codemirror_mode": {
    "name": "ipython",
    "version": 3
   },
   "file_extension": ".py",
   "mimetype": "text/x-python",
   "name": "python",
   "nbconvert_exporter": "python",
   "pygments_lexer": "ipython3",
   "version": "3.10.0"
  },
  "orig_nbformat": 4
 },
 "nbformat": 4,
 "nbformat_minor": 2
}
